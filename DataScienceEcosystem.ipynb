{
 "cells": [
  {
   "cell_type": "markdown",
   "id": "b39d0efc-e33f-4240-846b-91fa5522bd7c",
   "metadata": {
    "tags": []
   },
   "source": [
    "# Data Science Tools and Ecosystem\n"
   ]
  },
  {
   "cell_type": "markdown",
   "id": "b7feff3d-6cb1-46e8-9b8e-b729a505b0fa",
   "metadata": {
    "tags": []
   },
   "source": [
    "## Tools for Data Science Ecosystem is summarised.\n",
    "#### Data Science is not new but the demand for quality data has exploded recently. Because the subject is rapidly increasing the tools is also incresing massively. Data Scientist have programming languages R and Python, R is open source programming language which is used for stastical computing and graphics, Libraries in R for data science are dplyr(used for data manipulation), ggplot(used for data visualisation like graphs, piecharts etc), ggally(its extension of ggplot with several functions to reduce the complexity of combining geoms with transformed data)  Caret(used for building machine learning models) whereas, Python is flexible programming lagnuage which has numerous libraries which makes our tast quick like Panda(used for data manipulation and analysis), NumPy(used for supporting large multi-dimensional arrays and matrices), Matplotlib(used for data visualisation inform of interactive and animated structures).\n",
    "#### Jupyter Notebook is a web based interactive computing platform. Notebook combines live code, equation, narrative text, visualisations and interactive dashboards using Jupyter Labs.\n",
    "#### Distributed Version Control System(DVCS),system that keeps a track of changes to code regardless of where it is stored, it allows multiple users to work on same code basis or repository,Repository is storage structure that stores data also track issues and changes and also enable you to collaborate with other.Repository can be cloned to work locally then merge into original one. Best and widely used DVCS is GitHub.\n",
    "#### Apache Spark , a general purpose cluster computing framework allowing you to process data with computer clusters.\n",
    "#### SQL , Structered Query Language which is used for querying and managing data."
   ]
  },
  {
   "cell_type": "markdown",
   "id": "d32e808a-4a83-4c17-b6ed-a52b43487aac",
   "metadata": {
    "tags": []
   },
   "source": [
    "**Objectives**\n",
    "* Some popular languages for Data Science\n",
    "* Most used libraries in Data Science\n",
    "* Data Science Environment tools\n",
    "* Few examples of arithmetic expression"
   ]
  },
  {
   "cell_type": "markdown",
   "id": "fd2f66a2-b2e4-4f26-87cb-9979de9a1a8d",
   "metadata": {},
   "source": [
    "## Some popular languages used by Data Scientists are :-\n",
    "1. Python\n",
    "2. R\n",
    "3. JavaScript\n",
    "4. Julia\n",
    "5. Scala\n",
    "6. Java\n",
    "7. PMML(Predictive Model Markup Language)"
   ]
  },
  {
   "cell_type": "markdown",
   "id": "ffb2059a-cd9d-4fbf-b4d9-c0c9cafe35f1",
   "metadata": {},
   "source": [
    "## Commonly used libraries in Data Science are :-\n",
    "1. Panda\n",
    "2. NumPy\n",
    "3. Matplotlib\n",
    "4. dplyr\n",
    "5. ggplot\n",
    "6. ggally\n",
    "7. Caret\n",
    "8. Plotly\n",
    "9. Tensorflow\n",
    "10. PyTorch"
   ]
  },
  {
   "cell_type": "markdown",
   "id": "ff41de9a-9e6d-4f6a-af4c-7c6afb94d817",
   "metadata": {},
   "source": [
    "|Data Science Tools|\n",
    "|------------------|\n",
    "|Visual Studio Code|\n",
    "|Spyder  |\n",
    "|PyCharm |"
   ]
  },
  {
   "cell_type": "markdown",
   "id": "3968969c-8683-4035-96d9-0857b8af6755",
   "metadata": {},
   "source": [
    "### Below are a few examples of evaluating arithmetic expression in Python"
   ]
  },
  {
   "cell_type": "code",
   "execution_count": 11,
   "id": "d1870250-fe3d-414d-88d8-26e430e557ae",
   "metadata": {},
   "outputs": [
    {
     "data": {
      "text/plain": [
       "17"
      ]
     },
     "execution_count": 11,
     "metadata": {},
     "output_type": "execute_result"
    }
   ],
   "source": [
    "#### This a simple airthmetic expression to multiply then add integers.\n",
    "\n",
    "(3*4)+5"
   ]
  },
  {
   "cell_type": "code",
   "execution_count": 12,
   "id": "e6da5cd5-6619-4085-9d98-f8840f735612",
   "metadata": {},
   "outputs": [
    {
     "data": {
      "text/plain": [
       "3.3333333333333335"
      ]
     },
     "execution_count": 12,
     "metadata": {},
     "output_type": "execute_result"
    }
   ],
   "source": [
    "#### This will convert 200 minutes to hours by dividing by 60.\n",
    "\n",
    "200/60"
   ]
  },
  {
   "cell_type": "markdown",
   "id": "afbf23f1-cebf-4647-88f8-7db0a47789dd",
   "metadata": {},
   "source": [
    "## Author\n",
    "## Abhishek Chauhan"
   ]
  },
  {
   "cell_type": "code",
   "execution_count": null,
   "id": "9bc6ba08-c0f7-421d-ae50-946ad20827ce",
   "metadata": {},
   "outputs": [],
   "source": []
  }
 ],
 "metadata": {
  "kernelspec": {
   "display_name": "Python 3 (ipykernel)",
   "language": "python",
   "name": "python3"
  },
  "language_info": {
   "codemirror_mode": {
    "name": "ipython",
    "version": 3
   },
   "file_extension": ".py",
   "mimetype": "text/x-python",
   "name": "python",
   "nbconvert_exporter": "python",
   "pygments_lexer": "ipython3",
   "version": "3.10.9"
  }
 },
 "nbformat": 4,
 "nbformat_minor": 5
}
